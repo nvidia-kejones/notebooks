{
 "cells": [
  {
   "cell_type": "markdown",
   "metadata": {},
   "source": [
    "# Running DeepSeek R1 Distilled LLaMA 70B\n",
    "\n",
    "This notebook provides a step-by-step guide to setting up and running the DeepSeek R1 Distilled LLaMA 70B model. It also includes examples to showcase the model's capabilities.\n",
    "\n",
    "## Table of Contents\n",
    "1. Installation and Setup\n",
    "2. Loading the Model\n",
    "3. Running Inference\n",
    "4. Showcasing Model Capabilities\n",
    "5. Minimum GPU Requirements"
   ]
  },
  {
   "cell_type": "markdown",
   "metadata": {},
   "source": [
    "## 1. Installation and Setup\n",
    "\n",
    "First, ensure you have the necessary dependencies installed. We'll use Hugging Face's `transformers` library and `torch` for running the model."
   ]
  },
  {
   "cell_type": "code",
   "execution_count": null,
   "metadata": {},
   "outputs": [],
   "source": [
    "!pip install torch transformers accelerate"
   ]
  },
  {
   "cell_type": "code",
   "execution_count": null,
   "metadata": {},
   "outputs": [],
   "source": [
    "# Verify the installation\n",
    "import torch\n",
    "from transformers import AutoTokenizer, AutoModelForCausalLM\n",
    "\n",
    "print(\"PyTorch version:\", torch.__version__)\n",
    "print(\"Transformers version:\", transformers.__version__)"
   ]
  },
  {
   "cell_type": "markdown",
   "metadata": {},
   "source": [
    "## 2. Loading the Model\n",
    "\n",
    "DeepSeek R1 Distilled LLaMA 70B is a large language model. We'll load it using Hugging Face's `transformers` library."
   ]
  },
  {
   "cell_type": "code",
   "execution_count": null,
   "metadata": {},
   "outputs": [],
   "source": [
    "# Define the model name\n",
    "model_name = \"deepseek-ai/deepseek-llm-70b-r1-distilled\"\n",
    "\n",
    "# Load the tokenizer\n",
    "tokenizer = AutoTokenizer.from_pretrained(model_name)\n",
    "\n",
    "# Load the model (use `device_map=\"auto\"` to leverage multiple GPUs if available)\n",
    "model = AutoModelForCausalLM.from_pretrained(\n",
    "    model_name,\n",
    "    torch_dtype=torch.float16,  # Use FP16 for efficiency\n",
    "    device_map=\"auto\"\n",
    ")\n",
    "\n",
    "print(\"Model and tokenizer loaded successfully!\")"
   ]
  },
  {
   "cell_type": "markdown",
   "metadata": {},
   "source": [
    "## 3. Running Inference\n",
    "\n",
    "Now that the model is loaded, let's run some inference."
   ]
  },
  {
   "cell_type": "code",
   "execution_count": null,
   "metadata": {},
   "outputs": [],
   "source": [
    "# Define a function to generate text\n",
    "def generate_text(prompt, max_length=100, temperature=0.7):\n",
    "    inputs = tokenizer(prompt, return_tensors=\"pt\").to(model.device)\n",
    "    outputs = model.generate(\n",
    "        inputs.input_ids,\n",
    "        max_length=max_length,\n",
    "        temperature=temperature,\n",
    "        do_sample=True,\n",
    "        top_p=0.9\n",
    "    )\n",
    "    return tokenizer.decode(outputs[0], skip_special_tokens=True)\n",
    "\n",
    "# Test the function with a prompt\n",
    "prompt = \"Explain the concept of quantum computing in simple terms.\"\n",
    "generated_text = generate_text(prompt)\n",
    "print(\"Generated Text:\\n\", generated_text)"
   ]
  },
  {
   "cell_type": "markdown",
   "metadata": {},
   "source": [
    "## 4. Showcasing Model Capabilities\n",
    "\n",
    "Let's showcase the model's capabilities with a few examples."
   ]
  },
  {
   "cell_type": "markdown",
   "metadata": {},
   "source": [
    "### Example 1: Creative Writing"
   ]
  },
  {
   "cell_type": "code",
   "execution_count": null,
   "metadata": {},
   "outputs": [],
   "source": [
    "prompt = \"Write a short story about a robot discovering emotions.\"\n",
    "story = generate_text(prompt, max_length=200)\n",
    "print(\"Creative Writing:\\n\", story)"
   ]
  },
  {
   "cell_type": "markdown",
   "metadata": {},
   "source": [
    "### Example 2: Code Generation"
   ]
  },
  {
   "cell_type": "code",
   "execution_count": null,
   "metadata": {},
   "outputs": [],
   "source": [
    "prompt = \"Write a Python function to calculate the Fibonacci sequence.\"\n",
    "code = generate_text(prompt, max_length=150)\n",
    "print(\"Code Generation:\\n\", code)"
   ]
  },
  {
   "cell_type": "markdown",
   "metadata": {},
   "source": [
    "### Example 3: Summarization"
   ]
  },
  {
   "cell_type": "code",
   "execution_count": null,
   "metadata": {},
   "outputs": [],
   "source": [
    "text_to_summarize = \"\"\"\n",
    "The Industrial Revolution was a period of major industrialization that took place during the late 1700s and early 1800s. \n",
    "It began in Great Britain and spread to the rest of the world. This era saw the development of new technologies, \n",
    "such as the steam engine, which revolutionized manufacturing and transportation. The Industrial Revolution also led \n",
    "to significant social and economic changes, including urbanization and the rise of the working class.\n",
    "\"\"\"\n",
    "prompt = f\"Summarize the following text:\\n{text_to_summarize}\"\n",
    "summary = generate_text(prompt, max_length=100)\n",
    "print(\"Summarization:\\n\", summary)"
   ]
  },
  {
   "cell_type": "markdown",
   "metadata": {},
   "source": [
    "## 5. Minimum GPU Requirements\n",
    "\n",
    "DeepSeek R1 Distilled LLaMA 70B is a large model, so it requires significant GPU resources to run efficiently.\n",
    "\n",
    "### Minimum Requirements:\n",
    "- **GPU Memory**: At least 40 GB of VRAM (e.g., NVIDIA A100, RTX 3090, or RTX 4090).\n",
    "- **Precision**: Use mixed precision (FP16) to reduce memory usage and improve performance.\n",
    "- **Multi-GPU Setup**: For optimal performance, use multiple GPUs with NVLink or PCIe interconnect.\n",
    "\n",
    "### Recommended Setup:\n",
    "- **GPUs**: 2x NVIDIA A100 (40 GB) or 4x NVIDIA RTX 3090 (24 GB each).\n",
    "- **CPU**: A high-core-count CPU (e.g., AMD EPYC or Intel Xeon) to handle data preprocessing.\n",
    "- **RAM**: At least 128 GB of system memory."
   ]
  },
  {
   "cell_type": "markdown",
   "metadata": {},
   "source": [
    "## Conclusion\n",
    "\n",
    "This notebook demonstrated how to set up and run the DeepSeek R1 Distilled LLaMA 70B model, along with examples showcasing its capabilities. Ensure you have the necessary hardware to run the model efficiently.\n",
    "\n",
    "Happy coding!"
   ]
  }
 ],
 "metadata": {
  "kernelspec": {
   "display_name": "Python 3",
   "language": "python",
   "name": "python3"
  },
  "language_info": {
   "codemirror_mode": {
    "name": "ipython",
    "version": 3
   },
   "file_extension": ".py",
   "mimetype": "text/x-python",
   "name": "python",
   "nbconvert_exporter": "python",
   "pygments_lexer": "ipython3",
   "version": "3.9.0"
  }
 },
 "nbformat": 4,
 "nbformat_minor": 4
}
